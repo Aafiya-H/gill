{
 "cells": [
  {
   "cell_type": "code",
   "execution_count": null,
   "metadata": {},
   "outputs": [],
   "source": [
    "import gc\n",
    "gc.collect()"
   ]
  },
  {
   "cell_type": "code",
   "execution_count": 1,
   "metadata": {},
   "outputs": [],
   "source": [
    "from gill import models\n",
    "from gill import utils\n",
    "from torchmetrics import BLEUScore\n",
    "\n",
    "import IPython.display as ipd\n",
    "import pandas as pd\n",
    "import librosa\n",
    "import json\n",
    "import os"
   ]
  },
  {
   "cell_type": "code",
   "execution_count": 2,
   "metadata": {},
   "outputs": [
    {
     "name": "stdout",
     "output_type": "stream",
     "text": [
      "125m-25epochs-default-18_ckpt_best.json  1_ckpt_best.json  7_ckpt.json\n",
      "125m-25epochs-default-3_ckpt_best.json\t 2_ckpt_best.json  9_ckpt.json\n",
      "125m-25epochs-default-4_ckpt.json\t 5_ckpt.json\n"
     ]
    }
   ],
   "source": [
    "!ls ../../../../../mnt/media/wiseyak/reasoning-datasets/AudioCaps/results"
   ]
  },
  {
   "cell_type": "code",
   "execution_count": 3,
   "metadata": {},
   "outputs": [
    {
     "name": "stderr",
     "output_type": "stream",
     "text": [
      "/mnt/media/wiseyak/reasoning/lib/python3.10/site-packages/torchmetrics/utilities/prints.py:62: FutureWarning: Importing `BLEUScore` from `torchmetrics` was deprecated and will be removed in 2.0. Import `BLEUScore` from `torchmetrics.text` instead.\n",
      "  _future_warning(\n"
     ]
    }
   ],
   "source": [
    "base_test_dir = \"../../../../../mnt/media/wiseyak/reasoning-datasets/AudioCaps/\"\n",
    "test_df = pd.read_csv(os.path.join(base_test_dir, \"test-10s-downloaded.csv\"))\n",
    "bleu_scorers = [BLEUScore(n_gram=i) for i in [1, 2, 3, 4]]"
   ]
  },
  {
   "cell_type": "code",
   "execution_count": 5,
   "metadata": {},
   "outputs": [
    {
     "data": {
      "text/plain": [
       "(31040, 31040)"
      ]
     },
     "execution_count": 5,
     "metadata": {},
     "output_type": "execute_result"
    }
   ],
   "source": [
    "train_df = pd.read_csv(os.path.join(base_test_dir, \"train-10s-downloaded.csv\"))\n",
    "len(train_df[\"youtube_id\"].unique()), len(train_df)"
   ]
  },
  {
   "cell_type": "code",
   "execution_count": 6,
   "metadata": {},
   "outputs": [
    {
     "data": {
      "text/plain": [
       "(622, 3110)"
      ]
     },
     "execution_count": 6,
     "metadata": {},
     "output_type": "execute_result"
    }
   ],
   "source": [
    "len(test_df[\"youtube_id\"].unique()), len(test_df)"
   ]
  },
  {
   "cell_type": "code",
   "execution_count": 3,
   "metadata": {},
   "outputs": [],
   "source": [
    "def join_result_with_test(test_df,ckpt_name):\n",
    "    with open(os.path.join(base_test_dir,ckpt_name)) as f:\n",
    "        results = json.load(f)\n",
    "    generated_captions = []\n",
    "    for index,row in test_df.iterrows():\n",
    "        audiocap_id = row[\"audiocap_id\"]\n",
    "        generated_captions.append(results[str(audiocap_id)])  \n",
    "    test_df[\"generated_caption\"] = generated_captions \n",
    "    return test_df\n",
    "\n",
    "\n",
    "def get_bleu(test_df):\n",
    "    unique_clips = test_df[\"youtube_id\"].unique()\n",
    "    targets,preds = [],[]\n",
    "    for unique_clip in unique_clips:\n",
    "        rows = test_df[test_df[\"youtube_id\"] == unique_clip]\n",
    "        target = rows[\"caption\"].to_list()\n",
    "        targets.append(target)\n",
    "        \n",
    "        pred = rows.iloc[0][\"generated_caption\"]\n",
    "        preds.append(pred)\n",
    "    \n",
    "    print(\"-\"*20,\"BLEU Scores\",\"-\"*20)\n",
    "    print(\"BLEU-1\",bleu_scorers[0](preds,targets))\n",
    "    print(\"BLEU-2\",bleu_scorers[1](preds,targets))\n",
    "    print(\"BLEU-3\",bleu_scorers[2](preds,targets))\n",
    "    print(\"BLEU-4\",bleu_scorers[3](preds,targets))"
   ]
  },
  {
   "cell_type": "code",
   "execution_count": 4,
   "metadata": {},
   "outputs": [
    {
     "name": "stdout",
     "output_type": "stream",
     "text": [
      "-------------------- BLEU Scores --------------------\n",
      "BLEU-1 tensor(0.1942)\n",
      "BLEU-2 tensor(0.0191)\n",
      "BLEU-3 tensor(0.)\n",
      "BLEU-4 tensor(0.)\n"
     ]
    }
   ],
   "source": [
    "ckpt3_result = join_result_with_test(test_df,\"results/125m-25epochs-default-3_ckpt_best.json\")\n",
    "get_bleu(ckpt3_result)"
   ]
  },
  {
   "cell_type": "code",
   "execution_count": 5,
   "metadata": {},
   "outputs": [
    {
     "name": "stdout",
     "output_type": "stream",
     "text": [
      "-------------------- BLEU Scores --------------------\n",
      "BLEU-1 tensor(0.1774)\n",
      "BLEU-2 tensor(0.0183)\n",
      "BLEU-3 tensor(0.)\n",
      "BLEU-4 tensor(0.)\n"
     ]
    }
   ],
   "source": [
    "ckpt4_result = join_result_with_test(test_df,\"results/125m-25epochs-default-4_ckpt.json\")\n",
    "get_bleu(ckpt4_result)"
   ]
  },
  {
   "cell_type": "code",
   "execution_count": 6,
   "metadata": {},
   "outputs": [
    {
     "name": "stdout",
     "output_type": "stream",
     "text": [
      "-------------------- BLEU Scores --------------------\n",
      "BLEU-1 tensor(0.1059)\n",
      "BLEU-2 tensor(0.0102)\n",
      "BLEU-3 tensor(0.)\n",
      "BLEU-4 tensor(0.)\n"
     ]
    }
   ],
   "source": [
    "ckpt18_result = join_result_with_test(test_df,\"results/125m-25epochs-default-18_ckpt_best.json\")\n",
    "get_bleu(ckpt18_result)"
   ]
  },
  {
   "cell_type": "code",
   "execution_count": 21,
   "metadata": {},
   "outputs": [
    {
     "data": {
      "text/plain": [
       "'This is the sound of  the original, and the original is the original, and the original is the original'"
      ]
     },
     "execution_count": 21,
     "metadata": {},
     "output_type": "execute_result"
    }
   ],
   "source": [
    "ckpt3_result.iloc[500][\"generated_caption\"]"
   ]
  },
  {
   "cell_type": "code",
   "execution_count": 24,
   "metadata": {},
   "outputs": [
    {
     "data": {
      "text/plain": [
       "'This is the sound of  the original, and the original is the original, and the original is the original'"
      ]
     },
     "execution_count": 24,
     "metadata": {},
     "output_type": "execute_result"
    }
   ],
   "source": [
    "ckpt4_result.iloc[500][\"generated_caption\"]"
   ]
  },
  {
   "cell_type": "code",
   "execution_count": 23,
   "metadata": {},
   "outputs": [
    {
     "data": {
      "text/plain": [
       "'This is the sound of  the original, and the original is the original, and the original is the original'"
      ]
     },
     "execution_count": 23,
     "metadata": {},
     "output_type": "execute_result"
    }
   ],
   "source": [
    "ckpt18_result.iloc[500][\"generated_caption\"]"
   ]
  },
  {
   "cell_type": "code",
   "execution_count": 13,
   "metadata": {},
   "outputs": [
    {
     "data": {
      "text/html": [
       "<div>\n",
       "<style scoped>\n",
       "    .dataframe tbody tr th:only-of-type {\n",
       "        vertical-align: middle;\n",
       "    }\n",
       "\n",
       "    .dataframe tbody tr th {\n",
       "        vertical-align: top;\n",
       "    }\n",
       "\n",
       "    .dataframe thead th {\n",
       "        text-align: right;\n",
       "    }\n",
       "</style>\n",
       "<table border=\"1\" class=\"dataframe\">\n",
       "  <thead>\n",
       "    <tr style=\"text-align: right;\">\n",
       "      <th></th>\n",
       "      <th>audiocap_id</th>\n",
       "      <th>youtube_id</th>\n",
       "      <th>start_time</th>\n",
       "      <th>caption</th>\n",
       "      <th>generated_caption</th>\n",
       "    </tr>\n",
       "  </thead>\n",
       "  <tbody>\n",
       "    <tr>\n",
       "      <th>0</th>\n",
       "      <td>10176</td>\n",
       "      <td>350OCezayrk</td>\n",
       "      <td>30</td>\n",
       "      <td>An engine is being started up then idles</td>\n",
       "      <td>This is the sound of  the original.</td>\n",
       "    </tr>\n",
       "    <tr>\n",
       "      <th>1</th>\n",
       "      <td>102728</td>\n",
       "      <td>D9tinq3RMpU</td>\n",
       "      <td>30</td>\n",
       "      <td>A ship engine running as a crowd of people tal...</td>\n",
       "      <td>This is the sound of  the city itself.</td>\n",
       "    </tr>\n",
       "    <tr>\n",
       "      <th>2</th>\n",
       "      <td>102729</td>\n",
       "      <td>sI7_ycEYzAY</td>\n",
       "      <td>30</td>\n",
       "      <td>A clock ticks low and loud and someone breathe...</td>\n",
       "      <td>This is the sound of  the last of the last of ...</td>\n",
       "    </tr>\n",
       "    <tr>\n",
       "      <th>3</th>\n",
       "      <td>102730</td>\n",
       "      <td>WqXFAY4k79s</td>\n",
       "      <td>230</td>\n",
       "      <td>A girl speaks while rain pitter-patters follow...</td>\n",
       "      <td>This is the sound of  the rain of the rain of ...</td>\n",
       "    </tr>\n",
       "    <tr>\n",
       "      <th>4</th>\n",
       "      <td>102733</td>\n",
       "      <td>yRoKi7rhSRo</td>\n",
       "      <td>20</td>\n",
       "      <td>A toilet flushing followed by a person speakin...</td>\n",
       "      <td>This is the sound of  the last of the last of ...</td>\n",
       "    </tr>\n",
       "  </tbody>\n",
       "</table>\n",
       "</div>"
      ],
      "text/plain": [
       "   audiocap_id   youtube_id  start_time  \\\n",
       "0        10176  350OCezayrk          30   \n",
       "1       102728  D9tinq3RMpU          30   \n",
       "2       102729  sI7_ycEYzAY          30   \n",
       "3       102730  WqXFAY4k79s         230   \n",
       "4       102733  yRoKi7rhSRo          20   \n",
       "\n",
       "                                             caption  \\\n",
       "0           An engine is being started up then idles   \n",
       "1  A ship engine running as a crowd of people tal...   \n",
       "2  A clock ticks low and loud and someone breathe...   \n",
       "3  A girl speaks while rain pitter-patters follow...   \n",
       "4  A toilet flushing followed by a person speakin...   \n",
       "\n",
       "                                   generated_caption  \n",
       "0                This is the sound of  the original.  \n",
       "1             This is the sound of  the city itself.  \n",
       "2  This is the sound of  the last of the last of ...  \n",
       "3  This is the sound of  the rain of the rain of ...  \n",
       "4  This is the sound of  the last of the last of ...  "
      ]
     },
     "execution_count": 13,
     "metadata": {},
     "output_type": "execute_result"
    }
   ],
   "source": [
    "ckpt3_result.head()"
   ]
  },
  {
   "cell_type": "code",
   "execution_count": null,
   "metadata": {},
   "outputs": [],
   "source": []
  }
 ],
 "metadata": {
  "kernelspec": {
   "display_name": "reasoning",
   "language": "python",
   "name": "reasoning"
  },
  "language_info": {
   "codemirror_mode": {
    "name": "ipython",
    "version": 3
   },
   "file_extension": ".py",
   "mimetype": "text/x-python",
   "name": "python",
   "nbconvert_exporter": "python",
   "pygments_lexer": "ipython3",
   "version": "3.10.12"
  }
 },
 "nbformat": 4,
 "nbformat_minor": 2
}
